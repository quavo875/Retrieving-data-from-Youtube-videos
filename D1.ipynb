{
 "cells": [
  {
   "cell_type": "markdown",
   "id": "66f183bd-af75-4f95-b2dc-b9106bafebeb",
   "metadata": {
    "tags": []
   },
   "source": [
    "# **Task D1**\n",
    "## Analyzing YouTube Video Data from News Publishers\n",
    "\n",
    "##### This task focuses on analyzing YouTube videos about a news topic (e.g., Covid-19) published by at least 4 English news publishers (e.g., BBC, Fox News, ...) from a start date to an end date. You will need to specify the news topic and the list of keywords to search for the videos about that topic on YouTube. Also, you will need to extract the channel IDs of the news publishers using the function get_channel_info() given to you in the attached \"collect.ipynb\" file. All settings need to be specified in Section B (Settings) of \"collect.ipynb\" and also copied into Section B (Settings) of this jupyter notebook (D1.ipynb). Please note the terms \"News Publisher\" and \"Channel\" have been used interchangeably in this task (each news publisher has a channel - if a news publisher has more than one channels on YouTube, pick any and state that in your TaskCompletionReport). The following instructions convey important information about the task. Please **read them carefully** and complete the task. If you need any clarification please    \n",
    "<img src=\"youtube.png\" alt=\"SIT112 Avocado!\" width=\"1800\" height=\"200\">"
   ]
  },
  {
   "cell_type": "markdown",
   "id": "59f70e1b-9e2c-4d8a-a94f-343d7ffe085c",
   "metadata": {
    "tags": []
   },
   "source": [
    "### A. Instructions\n",
    "#### Attachments\n",
    "* directions.pdf\n",
    "* collect.ipynb\n",
    "* credentials-sample.ini\n",
    "* video-presentation-guideline.pdf\n",
    "\n",
    "#### Get Started \n",
    "1. Rename the \"credentials-sample.ini\" file to \"credentials.ini\" and follow the instructions. \n",
    "2. Creat your YouTube API key and assign it to developer_key in the credentials.ini file. You will need the YouTube API key to get access to the YouTube API (collect the data). See the following video: https://youtu.be/N18czV5tj5o (the video is not up to date; the instrucitons might be sighly different. You can view the following link for more details: https://developers.google.com/youtube/v3/getting-started). Please note Projects that enable the YouTube Data API have a default quota allocation of 10,000 units per day; to make an efficient use of your quota, please avoid multiple excecutions of the \"collect.ipynb\" file: https://developers.google.com/youtube/v3/guides/quota_and_compliance_audits. \n",
    "3. To work with the YouTube API (send queries), you need to install Google API Python Client using: \"conda install google-api-python-client\" \n",
    "#### Specify the news topic and news publishers (channels)\n",
    "4. Choose a news topic (e.g., Covid-19) and a list of keywords to be used for finding videos about that topic. You can extract the keywords by looking at some sample video titles. \n",
    "5. Choose at least 4 popular English news publishers (e.g., BBC, Fox News).\n",
    "6. Extract, manually, the video IDs of sample videos from different  news publishers (channels). You can do so by clicking on the share button for each video. \n",
    "7. Extract the Channel IDs of the videos using the get_channel_info() function in collect.ipynb \n",
    "#### Collect the Videos and Comments using \"collect.ipynb\" \n",
    "8. Specify the Channel IDs and names in the Settings section of the attached \"collect.ipynb\" file (CHANNELS = {...})\n",
    "9. Specify the list keywords in the Settings section of the attached collect.ipynb file (KEYWORDS = [...])\n",
    "10. Specify the START_DATE and END_DATE in the Settings section of the attached collect.ipynb file\n",
    "11. Specify the MAX_VIDEOS such that you can extract **at least 20 videos per news publisher (channel)**. Make sure for your specified topic, **at least 300 comments per news publisher (channel)** can be collected. Please note some publishers might have disabled comments.\n",
    "12. Please **do not make any changes to the \"collect.ipynb\" file**\n",
    "13. Execute the collect.ipynb file to collect the videos (will be stored in videos.csv) and the comments on those videos (will be stored in comments.csv).\n",
    "#### Complete the Task\n",
    "14. <font color='red'> Choose only 2 quesitons from Section E1 and only 1 quesiton from Section E2 </font> and answer them based on the hints. Please note, for each question, you must **briefly discuss your observations** based on the results.\n",
    "15. Please note **there is no unique solution** for most questions; if you need to make any assumptions, **state your assumptions** in the comments and in your TaskCompletionReport and answer the question accordingly. Please also note, **if something has not been clearly stated in a question (e.g., the type of visualization, etc) it means you are allowed to make your own choice**. \n",
    "16. **Read the attached \"video-presentation-guideline.pdf\"** carefully and record a video clip (based on video-presentation-guideline.pdf) that presents your completed task. Upload the video on a video repository such as YouTube (or any other preferred repository) and provide the link in the TaskCompletionReport. \n",
    "17. Complete the TaskCompletionReport form.\n",
    "\n",
    "#### Submit the Task\n",
    "18. Please make sure you have copied the settings from collect.ipynb into your solution file (D1.ipynb), under section B (settings).  \n",
    "19. Please make sure you have executed and saved all the cells in your jupyter notebook without any error; otherwise, your submission may not be flagged as complete. \n",
    "20. Please make sure you have included the link to the video recording of your presentation in your TaskCompletionReport. \n",
    "21. Submit (1) the TaskCompletionReport as a \"PDF\" file and (2) your solution file (D1.ipynb) as an \"ipynb\" file (do not zip/combine them). Please do not include \"collect.ipynb\" in your submission. \n",
    "\n",
    "Good luck :)"
   ]
  },
  {
   "cell_type": "markdown",
   "id": "d64fbdfe-6943-4132-9bdd-5c9767134c9e",
   "metadata": {},
   "source": [
    "### B. Settings\n",
    "Copy your settings from Section B of the \"collect.ipynb\" file below. "
   ]
  },
  {
   "cell_type": "code",
   "execution_count": 79,
   "id": "069b06ee",
   "metadata": {},
   "outputs": [
    {
     "name": "stdout",
     "output_type": "stream",
     "text": [
      "google-api-python-client module not found. Installing...\n",
      "Requirement already satisfied: google-api-python-client in /Users/krish/myenv/lib/python3.12/site-packages (2.130.0)\n",
      "Requirement already satisfied: httplib2<1.dev0,>=0.19.0 in /Users/krish/myenv/lib/python3.12/site-packages (from google-api-python-client) (0.22.0)\n",
      "Requirement already satisfied: google-auth!=2.24.0,!=2.25.0,<3.0.0.dev0,>=1.32.0 in /Users/krish/myenv/lib/python3.12/site-packages (from google-api-python-client) (2.29.0)\n",
      "Requirement already satisfied: google-auth-httplib2<1.0.0,>=0.2.0 in /Users/krish/myenv/lib/python3.12/site-packages (from google-api-python-client) (0.2.0)\n",
      "Requirement already satisfied: google-api-core!=2.0.*,!=2.1.*,!=2.2.*,!=2.3.0,<3.0.0.dev0,>=1.31.5 in /Users/krish/myenv/lib/python3.12/site-packages (from google-api-python-client) (2.19.0)\n",
      "Requirement already satisfied: uritemplate<5,>=3.0.1 in /Users/krish/myenv/lib/python3.12/site-packages (from google-api-python-client) (4.1.1)\n",
      "Requirement already satisfied: googleapis-common-protos<2.0.dev0,>=1.56.2 in /Users/krish/myenv/lib/python3.12/site-packages (from google-api-core!=2.0.*,!=2.1.*,!=2.2.*,!=2.3.0,<3.0.0.dev0,>=1.31.5->google-api-python-client) (1.63.0)\n",
      "Requirement already satisfied: protobuf!=3.20.0,!=3.20.1,!=4.21.0,!=4.21.1,!=4.21.2,!=4.21.3,!=4.21.4,!=4.21.5,<5.0.0.dev0,>=3.19.5 in /Users/krish/myenv/lib/python3.12/site-packages (from google-api-core!=2.0.*,!=2.1.*,!=2.2.*,!=2.3.0,<3.0.0.dev0,>=1.31.5->google-api-python-client) (4.25.3)\n",
      "Requirement already satisfied: proto-plus<2.0.0dev,>=1.22.3 in /Users/krish/myenv/lib/python3.12/site-packages (from google-api-core!=2.0.*,!=2.1.*,!=2.2.*,!=2.3.0,<3.0.0.dev0,>=1.31.5->google-api-python-client) (1.23.0)\n",
      "Requirement already satisfied: requests<3.0.0.dev0,>=2.18.0 in /Users/krish/myenv/lib/python3.12/site-packages (from google-api-core!=2.0.*,!=2.1.*,!=2.2.*,!=2.3.0,<3.0.0.dev0,>=1.31.5->google-api-python-client) (2.32.2)\n",
      "Requirement already satisfied: cachetools<6.0,>=2.0.0 in /Users/krish/myenv/lib/python3.12/site-packages (from google-auth!=2.24.0,!=2.25.0,<3.0.0.dev0,>=1.32.0->google-api-python-client) (5.3.3)\n",
      "Requirement already satisfied: pyasn1-modules>=0.2.1 in /Users/krish/myenv/lib/python3.12/site-packages (from google-auth!=2.24.0,!=2.25.0,<3.0.0.dev0,>=1.32.0->google-api-python-client) (0.4.0)\n",
      "Requirement already satisfied: rsa<5,>=3.1.4 in /Users/krish/myenv/lib/python3.12/site-packages (from google-auth!=2.24.0,!=2.25.0,<3.0.0.dev0,>=1.32.0->google-api-python-client) (4.9)\n",
      "Requirement already satisfied: pyparsing!=3.0.0,!=3.0.1,!=3.0.2,!=3.0.3,<4,>=2.4.2 in /Users/krish/myenv/lib/python3.12/site-packages (from httplib2<1.dev0,>=0.19.0->google-api-python-client) (3.1.2)\n",
      "Requirement already satisfied: pyasn1<0.7.0,>=0.4.6 in /Users/krish/myenv/lib/python3.12/site-packages (from pyasn1-modules>=0.2.1->google-auth!=2.24.0,!=2.25.0,<3.0.0.dev0,>=1.32.0->google-api-python-client) (0.6.0)\n",
      "Requirement already satisfied: charset-normalizer<4,>=2 in /Users/krish/myenv/lib/python3.12/site-packages (from requests<3.0.0.dev0,>=2.18.0->google-api-core!=2.0.*,!=2.1.*,!=2.2.*,!=2.3.0,<3.0.0.dev0,>=1.31.5->google-api-python-client) (3.3.2)\n",
      "Requirement already satisfied: idna<4,>=2.5 in /Users/krish/myenv/lib/python3.12/site-packages (from requests<3.0.0.dev0,>=2.18.0->google-api-core!=2.0.*,!=2.1.*,!=2.2.*,!=2.3.0,<3.0.0.dev0,>=1.31.5->google-api-python-client) (3.7)\n",
      "Requirement already satisfied: urllib3<3,>=1.21.1 in /Users/krish/myenv/lib/python3.12/site-packages (from requests<3.0.0.dev0,>=2.18.0->google-api-core!=2.0.*,!=2.1.*,!=2.2.*,!=2.3.0,<3.0.0.dev0,>=1.31.5->google-api-python-client) (2.2.1)\n",
      "Requirement already satisfied: certifi>=2017.4.17 in /Users/krish/myenv/lib/python3.12/site-packages (from requests<3.0.0.dev0,>=2.18.0->google-api-core!=2.0.*,!=2.1.*,!=2.2.*,!=2.3.0,<3.0.0.dev0,>=1.31.5->google-api-python-client) (2024.2.2)\n",
      "All required modules are installed.\n"
     ]
    },
    {
     "name": "stderr",
     "output_type": "stream",
     "text": [
      "[nltk_data] Downloading package stopwords to /Users/krish/nltk_data...\n",
      "[nltk_data]   Package stopwords is already up-to-date!\n"
     ]
    }
   ],
   "source": [
    "import importlib\n",
    "import subprocess\n",
    "\n",
    "# The following lines should install all libraries you need - you can install the libraries manually if the script did not work \n",
    "required_modules = ['pandas', 'seaborn', 'matplotlib', 'google-api-python-client', 'datetime', 'configparser', 'nltk', 'langdetect', 'textblob', 'prettytable', 'tabulate', 'numpy']\n",
    "for module in required_modules:\n",
    "    try:\n",
    "        importlib.import_module(module)\n",
    "    except ImportError:\n",
    "        print(f\"{module} module not found. Installing...\")\n",
    "        subprocess.check_call(['pip', 'install', module])\n",
    "\n",
    "print(\"All required modules are installed.\")\n",
    "\n",
    "# import the installed libraries ...\n",
    "import pandas as pd\n",
    "import seaborn as sns\n",
    "import matplotlib.pyplot as plt\n",
    "from googleapiclient.discovery import build\n",
    "from googleapiclient.errors import HttpError\n",
    "from datetime import datetime\n",
    "import os\n",
    "from configparser import ConfigParser\n",
    "import re\n",
    "import nltk\n",
    "nltk.download('stopwords')\n",
    "from nltk.corpus import stopwords\n",
    "from langdetect import detect\n",
    "import langdetect\n",
    "from textblob import TextBlob\n",
    "import calendar\n",
    "import matplotlib.dates as mdates\n",
    "from matplotlib.dates import DateFormatter\n",
    "from prettytable import PrettyTable\n",
    "from tabulate import tabulate\n",
    "import numpy as np\n",
    "from collections import defaultdict\n",
    "import warnings"
   ]
  },
  {
   "cell_type": "code",
   "execution_count": 80,
   "id": "12be2488",
   "metadata": {},
   "outputs": [],
   "source": [
    "def load_credentials():\n",
    "    try:\n",
    "        config = ConfigParser(interpolation=None)\n",
    "        config.read(CREDENTIALS_FILE)\n",
    "        developer_key = config.get('credentials_youtube', 'developer_key', fallback=None)\n",
    "        service_name = config.get('credentials_youtube', 'service_name', fallback=None)\n",
    "        service_version = config.get('credentials_youtube', 'service_version', fallback=None)\n",
    "        if not developer_key or not service_name or not service_version:\n",
    "            raise ValueError(\"Invalid credentials file\")\n",
    "\n",
    "        return {\n",
    "            'developer_key' : developer_key,\n",
    "            'service_name' : service_name,\n",
    "            'service_version' : service_version\n",
    "        }\n",
    "    except Exception as e:\n",
    "        raise ValueError(\"Failed to load credentials: {}\".format(str(e)))"
   ]
  },
  {
   "cell_type": "code",
   "execution_count": 81,
   "id": "872d8a66-4330-40fc-bac7-992bba510182",
   "metadata": {},
   "outputs": [],
   "source": [
    "VIDEOS_FILE = \"videos.csv\"\n",
    "COMMENTS_FILE = \"comments.csv\"\n",
    "CREDENTIALS_FILE = 'credentials.ini'\n",
    "START_DATE = datetime(2020, 1, 1)\n",
    "END_DATE = datetime(2023, 1, 1)\n",
    "KEYWORDS =['coronavirus', 'covid', 'covid-19', 'pandemic']\n",
    "# You can use functin get_channel_info() to extract the channel ID of a sample video from a news publisher ...\n",
    "\n",
    "CHANNELS = {\n",
    "    'UCXIJgqnII2ZOINSWNOGFThA' : 'Fox News',\n",
    "    'UC16niRr50-MSBwiO3YDb3RA' : 'BBC News',\n",
    "    'UCupvZG-5ko_eiXAupbDfxWw' : 'CNN',\n",
    "    'UCaXkIU1QidjPwiAYu6GcHjg' : 'MSNBC'\n",
    "}\n",
    "MAX_VIDEOS = 50 # the maximum number of video that should be returned for each request. Acceptable values are 0 to 50\n",
    "QUERY= f\"intitle:{','.join(KEYWORDS)}\"\n",
    "# This function takes a video ID and a YouTube Object and returns the video's channel ID\n",
    "# See Section H (call the functions) to learn how to use this function"
   ]
  },
  {
   "cell_type": "markdown",
   "id": "45865861-25c8-4cb6-99a2-832aace9d65d",
   "metadata": {
    "tags": []
   },
   "source": [
    "### C. Imports\n",
    "You need to import the following libraries. Install the libraries using \"conda install ... or pip install ...\" if they have not been installed on your machine. For example you can install google api python client by executing \"conda install google-api-python-client\""
   ]
  },
  {
   "cell_type": "markdown",
   "id": "1dacb47b-bc27-4224-bbdb-d6fe960387ba",
   "metadata": {
    "tags": []
   },
   "source": [
    "### D. Clean and Prepare the Data"
   ]
  },
  {
   "cell_type": "code",
   "execution_count": 82,
   "id": "f8be9e78",
   "metadata": {},
   "outputs": [],
   "source": [
    "VIDEO_CATEGORIES = {\n",
    "    '1': 'Film & Animation',\n",
    "    '2': 'Autos & Vehicles',\n",
    "    '10': 'Music',\n",
    "    '15': 'Pets & Animals',\n",
    "    '17': 'Sports',\n",
    "    '19': 'Travel & Events',\n",
    "    '20': 'Gaming',\n",
    "    '22': 'People & Blogs',\n",
    "    '23': 'Comedy',\n",
    "    '24': 'Entertainment',\n",
    "    '25': 'News & Politics',\n",
    "    '26': 'Howto & Style',\n",
    "    '27': 'Education',\n",
    "    '28': 'Science & Technology',\n",
    "    '29': 'Nonprofits & Activism'\n",
    "}"
   ]
  },
  {
   "cell_type": "code",
   "execution_count": 83,
   "id": "d0dccd7e",
   "metadata": {},
   "outputs": [
    {
     "name": "stdout",
     "output_type": "stream",
     "text": [
      "-> collecting videos for channel: Fox News\n",
      "-> collecting videos for channel: BBC News\n",
      "-> collecting videos for channel: CNN\n",
      "-> collecting videos for channel: MSNBC\n",
      "       video_id                channel_id  \\\n",
      "0   d1eEWihvwpQ  UCXIJgqnII2ZOINSWNOGFThA   \n",
      "1   lydWQoqDNp8  UCXIJgqnII2ZOINSWNOGFThA   \n",
      "2   jXHikITwlng  UCXIJgqnII2ZOINSWNOGFThA   \n",
      "3   2j3YtPVBT30  UCXIJgqnII2ZOINSWNOGFThA   \n",
      "4   DZLQRA5XwPY  UCXIJgqnII2ZOINSWNOGFThA   \n",
      "..          ...                       ...   \n",
      "45  BCjqqqfCggw  UCaXkIU1QidjPwiAYu6GcHjg   \n",
      "46  0BPWtYPkDS4  UCaXkIU1QidjPwiAYu6GcHjg   \n",
      "47  0tSACr4-fW8  UCaXkIU1QidjPwiAYu6GcHjg   \n",
      "48  z43onGU9ul4  UCaXkIU1QidjPwiAYu6GcHjg   \n",
      "49  yOFXVdIwH6s  UCaXkIU1QidjPwiAYu6GcHjg   \n",
      "\n",
      "                                          video_title channel_title  \\\n",
      "0        WHO declares coronavirus outbreak a pandemic      Fox News   \n",
      "1         Tucker: Coronavirus pandemic is a real fear      Fox News   \n",
      "2   Bill Gates on his 2015 'virus' warning, effort...      Fox News   \n",
      "3   NY Gov Cuomo talks rent payments, coronavirus ...      Fox News   \n",
      "4     Gun sales skyrocket during coronavirus pandemic      Fox News   \n",
      "..                                                ...           ...   \n",
      "45  China Still Concerned With Coronavirus Hot Spo...         MSNBC   \n",
      "46  ‘Ridiculous And Dangerous’ To Think The Corona...         MSNBC   \n",
      "47  ‘Wrong Choice Of Words’: Fauci Walks Back Crit...         MSNBC   \n",
      "48  Dr. Fauci: People Weaponizing Lies About The C...         MSNBC   \n",
      "49  Dr. DeBoisblanc: Hospitals ‘Can’t Rehearse’ Fo...         MSNBC   \n",
      "\n",
      "      category_name live_upcoming_none view_count like_count  dislike_count  \\\n",
      "0   News & Politics               none     457064       3624              0   \n",
      "1   News & Politics               none     459504       9068              0   \n",
      "2   News & Politics               none     887800       8210              0   \n",
      "3   News & Politics               none      84916        539              0   \n",
      "4   News & Politics               none     119355       2222              0   \n",
      "..              ...                ...        ...        ...            ...   \n",
      "45  News & Politics               none     524186       2082              0   \n",
      "46  News & Politics               none      61044        404              0   \n",
      "47  News & Politics               none     594029       3394              0   \n",
      "48  News & Politics               none      30759        583              0   \n",
      "49  News & Politics               none      12928         89              0   \n",
      "\n",
      "   comment_count          published_at  \\\n",
      "0           1939  2020-03-11T16:50:56Z   \n",
      "1           2273  2020-02-25T02:20:00Z   \n",
      "2          12368  2020-04-05T18:50:02Z   \n",
      "3            543  2020-03-30T18:00:34Z   \n",
      "4           1199  2020-03-18T23:10:00Z   \n",
      "..           ...                   ...   \n",
      "45          1253  2020-04-13T13:00:35Z   \n",
      "46           233  2020-06-11T04:49:53Z   \n",
      "47          2579  2020-04-13T23:09:06Z   \n",
      "48           967  2021-11-24T01:45:03Z   \n",
      "49            14  2020-04-10T04:20:27Z   \n",
      "\n",
      "                                                 tags  duration definition  \\\n",
      "0   fox news alert,breaking news,fox,news,fox news...     PT51S         hd   \n",
      "1   health,coronavirus,china,wuhan china,novel cor...   PT2M48S         hd   \n",
      "2   Fox News Channel,Fox News,News,fox news sunday...  PT12M29S         hd   \n",
      "3   Fox News Channel,FNC,Fox News,News,Latest News...  PT37M54S         hd   \n",
      "4   Gun sales,coronavirus,coronavirus gun sales,gu...    PT2M3S         hd   \n",
      "..                                                ...       ...        ...   \n",
      "45  News,Health,Donald Trump,Best of last night,Co...      PT3M         hd   \n",
      "46  News,National Security,Health,Healthcare,White...   PT1M40S         hd   \n",
      "47  Coronavirus,MSNBC,NBC News,nbc,news,breaking n...   PT3M47S         hd   \n",
      "48  dr fauci,fauci,anthony fauci,covid vaccines,va...   PT9M55S         hd   \n",
      "49  New Orleans,Hurricane Katrina,Louisiana,Corona...   PT2M45S         hd   \n",
      "\n",
      "   caption                                       thumbnail  \\\n",
      "0     true  https://i.ytimg.com/vi/d1eEWihvwpQ/default.jpg   \n",
      "1     true  https://i.ytimg.com/vi/lydWQoqDNp8/default.jpg   \n",
      "2     true  https://i.ytimg.com/vi/jXHikITwlng/default.jpg   \n",
      "3    false  https://i.ytimg.com/vi/2j3YtPVBT30/default.jpg   \n",
      "4     true  https://i.ytimg.com/vi/DZLQRA5XwPY/default.jpg   \n",
      "..     ...                                             ...   \n",
      "45    true  https://i.ytimg.com/vi/BCjqqqfCggw/default.jpg   \n",
      "46    true  https://i.ytimg.com/vi/0BPWtYPkDS4/default.jpg   \n",
      "47    true  https://i.ytimg.com/vi/0tSACr4-fW8/default.jpg   \n",
      "48   false  https://i.ytimg.com/vi/z43onGU9ul4/default.jpg   \n",
      "49    true  https://i.ytimg.com/vi/yOFXVdIwH6s/default.jpg   \n",
      "\n",
      "                                            url  \n",
      "0   https://www.youtube.com/watch?v=d1eEWihvwpQ  \n",
      "1   https://www.youtube.com/watch?v=lydWQoqDNp8  \n",
      "2   https://www.youtube.com/watch?v=jXHikITwlng  \n",
      "3   https://www.youtube.com/watch?v=2j3YtPVBT30  \n",
      "4   https://www.youtube.com/watch?v=DZLQRA5XwPY  \n",
      "..                                          ...  \n",
      "45  https://www.youtube.com/watch?v=BCjqqqfCggw  \n",
      "46  https://www.youtube.com/watch?v=0BPWtYPkDS4  \n",
      "47  https://www.youtube.com/watch?v=0tSACr4-fW8  \n",
      "48  https://www.youtube.com/watch?v=z43onGU9ul4  \n",
      "49  https://www.youtube.com/watch?v=yOFXVdIwH6s  \n",
      "\n",
      "[200 rows x 17 columns]\n"
     ]
    }
   ],
   "source": [
    "youtube = build(credentials['service_name'],credentials['service_version'],developerKey=credentials['developer_key'])\n",
    "def get_channel_videos(channel_ids, start_date, end_date, query, video_categories, max_videos=50):\n",
    "    df_list = []\n",
    "    for channel_id in channel_ids: \n",
    "        print(f\"-> collecting videos for channel: {CHANNELS[channel_id]}\")\n",
    "        try:\n",
    "            request = youtube.search().list(\n",
    "                part=\"snippet\",\n",
    "                type='video',\n",
    "                channelId=channel_id,\n",
    "                maxResults=max_videos, # specifies the maximum number of items that should be returned in the result set. Acceptable values are 0 to 50, inclusive.\n",
    "                q=query,\n",
    "                publishedAfter=start_date.strftime(\"%Y-%m-%dT%H:%M:%SZ\"),\n",
    "                publishedBefore=end_date.strftime(\"%Y-%m-%dT%H:%M:%SZ\")\n",
    "            )\n",
    "            response = request.execute()\n",
    "            videos = response['items']\n",
    "            data = []\n",
    "            for video in videos:\n",
    "                video_id = video['id']['videoId']\n",
    "                video_details = youtube.videos().list(\n",
    "                    part=\"snippet,statistics,contentDetails\",\n",
    "                    id=video_id\n",
    "                ).execute()\n",
    "                video_data = {\n",
    "                    'video_id' : video_id,\n",
    "                    'channel_id' : channel_id,\n",
    "                    'video_title': video_details['items'][0]['snippet']['title'],\n",
    "                    'channel_title': video_details['items'][0]['snippet']['channelTitle'],\n",
    "                    'category_name': video_categories.get(str(video_details['items'][0]['snippet']['categoryId']), 'Unknown'),\n",
    "                    'live_upcoming_none' : video_details['items'][0]['snippet']['liveBroadcastContent'],\n",
    "                    'view_count': video_details['items'][0]['statistics'].get('viewCount', 0),\n",
    "                    'like_count': video_details['items'][0]['statistics'].get('likeCount', 0),\n",
    "                    'dislike_count': video_details['items'][0]['statistics'].get('dislikeCount', 0),\n",
    "                    'comment_count': video_details['items'][0]['statistics'].get('commentCount', 0),\n",
    "                    'published_at': video_details['items'][0]['snippet']['publishedAt'],\n",
    "                    'tags': ','.join(video_details['items'][0]['snippet'].get('tags', [])),\n",
    "                    'duration': video_details['items'][0]['contentDetails'].get('duration', ''),\n",
    "                    'definition': video_details['items'][0]['contentDetails'].get('definition', 'unknown'),\n",
    "                    'caption': video_details['items'][0]['contentDetails'].get('caption', 'false'),\n",
    "                    'thumbnail' : video_details['items'][0]['snippet']['thumbnails']['default'].get('url'),\n",
    "                    'url': 'https://www.youtube.com/watch?v={}'.format(video_id)\n",
    "                }\n",
    "                data.append(video_data)\n",
    "            df = pd.DataFrame(data)\n",
    "            df_list.append(df)\n",
    "        except HttpError as e:\n",
    "            print(f'An HTTP error {e.resp.status} occurred:\\n{e.content}')\n",
    "    df_concatenated = pd.concat(df_list, axis=0)\n",
    "    df_concatenated.to_csv(VIDEOS_FILE, mode='w', index=False)\n",
    "    return df_concatenated\n",
    "\n",
    "print(get_channel_videos(CHANNELS, START_DATE, END_DATE, QUERY,VIDEO_CATEGORIES, MAX_VIDEOS))\n"
   ]
  },
  {
   "cell_type": "code",
   "execution_count": 84,
   "id": "2779fbdc",
   "metadata": {},
   "outputs": [
    {
     "name": "stdout",
     "output_type": "stream",
     "text": [
      "-> collecting comments for video: d1eEWihvwpQ\n",
      "-> collecting comments for video: lydWQoqDNp8\n",
      "-> collecting comments for video: jXHikITwlng\n",
      "-> collecting comments for video: 2j3YtPVBT30\n",
      "-> collecting comments for video: DZLQRA5XwPY\n",
      "-> collecting comments for video: gkR0jipzPRA\n",
      "-> collecting comments for video: ACLU0OxWisE\n",
      "-> collecting comments for video: Z5cG6m0fYXY\n",
      "-> collecting comments for video: eT47ulzfOMo\n",
      "-> collecting comments for video: xhpqX1NbusQ\n",
      "-> collecting comments for video: 6G_-qe0iMBs\n",
      "-> collecting comments for video: lJcjFGt9eQM\n",
      "-> collecting comments for video: zwX5z_BvaN4\n",
      "-> collecting comments for video: 0pkwjVhq230\n",
      "-> collecting comments for video: J0Kavkyn46U\n",
      "-> collecting comments for video: VdK77bhAwO0\n",
      "-> collecting comments for video: 3ebpS88BAwA\n",
      "-> collecting comments for video: 0sDAuWZPR-4\n",
      "-> collecting comments for video: a1vKEIzvE08\n",
      "-> collecting comments for video: LmNOVFozyjo\n",
      "-> collecting comments for video: aSBWlKC7reM\n",
      "-> collecting comments for video: ob5_NvJz1io\n",
      "-> collecting comments for video: H9N9M9IjXD0\n",
      "-> collecting comments for video: Oei9_SRfaSw\n",
      "-> collecting comments for video: EZ2TPymcdL4\n",
      "-> collecting comments for video: -r_C-QsWEak\n",
      "-> collecting comments for video: t3QvoyLJtQg\n",
      "-> collecting comments for video: EE1iX5HKELA\n",
      "-> collecting comments for video: EbyPW8lJX2E\n",
      "-> collecting comments for video: yA1hBTpXvb4\n",
      "-> collecting comments for video: _HGTvjC0xrw\n",
      "-> collecting comments for video: ebH3NDpXoVs\n",
      "-> collecting comments for video: lp2czs3U8Qk\n",
      "-> collecting comments for video: 76J7SqZXG1g\n",
      "-> collecting comments for video: -r6mUnerPtc\n",
      "-> collecting comments for video: ebtpY4jZ9ds\n",
      "-> collecting comments for video: bf4WRdPnf4I\n",
      "-> collecting comments for video: QYmzSVWezrw\n",
      "-> collecting comments for video: Wif4phkPTe0\n",
      "-> collecting comments for video: ocLK8aEXR98\n",
      "-> collecting comments for video: N9TdWNrTLF8\n",
      "-> collecting comments for video: qLy8ISicMDI\n",
      "-> collecting comments for video: 7voTUuVT5i4\n",
      "-> collecting comments for video: 9LBUutWsfBc\n",
      "-> collecting comments for video: rLezK6SQNNk\n",
      "-> collecting comments for video: h25aDe9Lvgs\n",
      "-> collecting comments for video: Pevfw17JS6k\n",
      "-> collecting comments for video: gsp691RCGRU\n",
      "-> collecting comments for video: hIpCSt6NUJg\n",
      "-> collecting comments for video: xtW8F1Y3mAw\n",
      "-> collecting comments for video: RHFV0XcJxww\n",
      "-> collecting comments for video: YK_gq3PC7TE\n",
      "-> collecting comments for video: ArFQdvF8vDE\n",
      "-> collecting comments for video: 0sKlL4k2-sc\n",
      "-> collecting comments for video: RSZoDTvgEr8\n",
      "-> collecting comments for video: mmSJQul260g\n",
      "-> collecting comments for video: cIhak7--M8Q\n",
      "-> collecting comments for video: P2y1sIr913Y\n",
      "-> collecting comments for video: LYQLr45rtZk\n",
      "-> collecting comments for video: UNZRvU923Jo\n",
      "-> collecting comments for video: dc11uZ7_PnU\n",
      "-> collecting comments for video: uGVvsn7Q7mY\n",
      "-> collecting comments for video: hHcY4Vw532Y\n",
      "-> collecting comments for video: xqK4NfOOF9A\n",
      "-> collecting comments for video: tSCWs85mye8\n",
      "-> collecting comments for video: 7fRmK51-Q5o\n",
      "-> collecting comments for video: v8lVBHgucfs\n",
      "-> collecting comments for video: NAV3CmA5rBU\n",
      "-> collecting comments for video: PkYsjYKxXFU\n",
      "-> collecting comments for video: T-1-mlAGu1Y\n",
      "Comments are disabled for video ID T-1-mlAGu1Y. Skipping...\n",
      "-> collecting comments for video: 2bSvL87r1Go\n",
      "-> collecting comments for video: 9nrZwjcjS1A\n",
      "-> collecting comments for video: gtf9j06EOvo\n",
      "-> collecting comments for video: JP7OtUAVAjE\n",
      "-> collecting comments for video: 3AgxeIVrH24\n",
      "-> collecting comments for video: CuneZ1LhbQ0\n",
      "-> collecting comments for video: v2r1cnTUnkE\n",
      "-> collecting comments for video: 8dTelszbObM\n",
      "-> collecting comments for video: NwPwj45CAIc\n",
      "-> collecting comments for video: SLhGsTuE0ik\n",
      "-> collecting comments for video: BbJVVpQ-RYM\n",
      "Comments are disabled for video ID BbJVVpQ-RYM. Skipping...\n",
      "-> collecting comments for video: lHVNvFX8Bfg\n",
      "-> collecting comments for video: oKX_E7adVwg\n",
      "-> collecting comments for video: aQ6LERWK0T0\n",
      "-> collecting comments for video: eUsBzMYIKdA\n",
      "-> collecting comments for video: E0S3Zcg9ZJo\n",
      "-> collecting comments for video: Eh_7aSruRqw\n",
      "-> collecting comments for video: F5L-7p3v4GI\n",
      "-> collecting comments for video: W3ypPfbTyZs\n",
      "-> collecting comments for video: LP9a6cvfVeU\n",
      "-> collecting comments for video: LuESjGI-_gM\n",
      "Comments are disabled for video ID LuESjGI-_gM. Skipping...\n",
      "-> collecting comments for video: gXvSUiR2u2I\n",
      "-> collecting comments for video: 6CajGH3Q5RU\n",
      "Comments are disabled for video ID 6CajGH3Q5RU. Skipping...\n",
      "-> collecting comments for video: bvQW8YkBVhQ\n",
      "-> collecting comments for video: UcxHL8LHI_A\n",
      "-> collecting comments for video: 21MIvkk7Imc\n",
      "-> collecting comments for video: wco_jQZYzyE\n",
      "-> collecting comments for video: JtxsuIW7nrY\n",
      "-> collecting comments for video: CfproOJF0M0\n",
      "-> collecting comments for video: Q7JITDt_tpI\n",
      "-> collecting comments for video: 0csWfr1uvj8\n",
      "-> collecting comments for video: ZtkSYY9Z2fE\n",
      "-> collecting comments for video: rgpSC__Nxso\n",
      "-> collecting comments for video: 4PunLFH-aY0\n",
      "-> collecting comments for video: 3mfSSi-J7kI\n",
      "-> collecting comments for video: GEARtTBHXEw\n",
      "-> collecting comments for video: SfWtBPbE9so\n",
      "-> collecting comments for video: J0Cpmx4DS1c\n",
      "-> collecting comments for video: fGo5WqNjrOc\n",
      "-> collecting comments for video: bDBRxJTOKxM\n",
      "-> collecting comments for video: GHe5fv6dR4w\n",
      "-> collecting comments for video: R2ZETF515Ec\n",
      "-> collecting comments for video: yvW6juGxZQE\n",
      "-> collecting comments for video: VQqFr7_Y5NU\n",
      "-> collecting comments for video: -szt0u2X0WI\n",
      "-> collecting comments for video: HuBkxYY883k\n",
      "-> collecting comments for video: OV1Vuv9zfzI\n",
      "-> collecting comments for video: sXpIrDGXeTg\n",
      "-> collecting comments for video: 5RunFCEZh_4\n",
      "-> collecting comments for video: Yu8TuohmuiI\n",
      "-> collecting comments for video: WBRaGT9nqs4\n",
      "-> collecting comments for video: 7qvADOmHCUQ\n",
      "-> collecting comments for video: 1dng7_FAVis\n",
      "-> collecting comments for video: eEUqCxP5Lvc\n",
      "-> collecting comments for video: QQEQH59p17U\n",
      "-> collecting comments for video: KZn1yulnc1U\n",
      "-> collecting comments for video: A_rMCaYkk68\n",
      "-> collecting comments for video: FCUpvgp4RUo\n",
      "-> collecting comments for video: Tak_fw_0QbM\n",
      "-> collecting comments for video: uRjiq4PSvvo\n",
      "-> collecting comments for video: BTAub1YO4k0\n",
      "-> collecting comments for video: s4ShMqGfEvo\n",
      "-> collecting comments for video: 3AzIgAa0Cm8\n",
      "-> collecting comments for video: sZBMcqLKOqo\n",
      "-> collecting comments for video: ncwRbhunkIs\n",
      "-> collecting comments for video: 91CBoU0GqBM\n",
      "-> collecting comments for video: On7v-B28ZKk\n",
      "-> collecting comments for video: mtEu31GrFAA\n",
      "-> collecting comments for video: 02Wi5GSkdNk\n",
      "-> collecting comments for video: i4fx-hLaYok\n",
      "-> collecting comments for video: xFO1JlRXHkQ\n",
      "-> collecting comments for video: B4RRsV8nqrc\n",
      "-> collecting comments for video: XfbvLn3DgV8\n",
      "-> collecting comments for video: rljfwYO5zZg\n",
      "-> collecting comments for video: OOvENoZMmK4\n",
      "-> collecting comments for video: yMTTZiY1ppg\n",
      "-> collecting comments for video: gl24Ts6JjZ8\n",
      "-> collecting comments for video: S-uFhQcYxv8\n",
      "-> collecting comments for video: mjOzYwRalw8\n",
      "-> collecting comments for video: Lx77Aobghg8\n",
      "-> collecting comments for video: 1QPs-aN0c34\n",
      "-> collecting comments for video: vzOLgfU9ypQ\n",
      "-> collecting comments for video: 2WgNLO67Z18\n",
      "-> collecting comments for video: 5BQ8l8grQ4g\n",
      "-> collecting comments for video: YpbKKD1NAlE\n",
      "-> collecting comments for video: QwGfY5CJJZ0\n",
      "-> collecting comments for video: orWhiVs8Kjg\n",
      "-> collecting comments for video: c8TltWFwKuA\n",
      "-> collecting comments for video: cbbrlKl4Fak\n",
      "-> collecting comments for video: 7T6iH0OJ_Sk\n",
      "-> collecting comments for video: TySmb2_kZj0\n",
      "-> collecting comments for video: FbOde3RKYZ8\n",
      "-> collecting comments for video: 2QIB9E7IoVM\n",
      "-> collecting comments for video: unN8leCvHyM\n",
      "-> collecting comments for video: _-VxuZmEhV0\n",
      "-> collecting comments for video: dodl6JiHndI\n",
      "-> collecting comments for video: 2kEM0XZf4Bo\n",
      "-> collecting comments for video: 7PxTyPumPeI\n",
      "-> collecting comments for video: FOr1neUb5QI\n",
      "-> collecting comments for video: LwJTTpHNXlE\n",
      "-> collecting comments for video: 7ajACc7ul4k\n",
      "-> collecting comments for video: -0RC_-d_ZLg\n",
      "-> collecting comments for video: -SV8a9lGGk8\n",
      "-> collecting comments for video: YOu3er_zpAo\n",
      "-> collecting comments for video: 0IXlvcL6WdE\n",
      "-> collecting comments for video: HZFq6UWEcWE\n",
      "-> collecting comments for video: 9Aa63yNE_ak\n",
      "-> collecting comments for video: EeRsyWCM5gE\n",
      "-> collecting comments for video: 2gq5FV4rEgQ\n",
      "-> collecting comments for video: W6NLnZnYSLs\n",
      "-> collecting comments for video: pEVJUgPZfBE\n",
      "-> collecting comments for video: tBbKfmeFk4E\n",
      "-> collecting comments for video: sBmQam6kY0Q\n",
      "-> collecting comments for video: twPA6PIirfo\n",
      "-> collecting comments for video: yLyDCMjdbVQ\n",
      "-> collecting comments for video: -2h2bQYO-0E\n",
      "-> collecting comments for video: 71RnbszZ9Lw\n",
      "-> collecting comments for video: hyR3j-swUVQ\n",
      "-> collecting comments for video: cMcCyGORMcE\n",
      "-> collecting comments for video: Kj42zRezvkk\n",
      "-> collecting comments for video: BPnWazsVOok\n",
      "-> collecting comments for video: QA5UK4LbgRw\n",
      "-> collecting comments for video: Dy3nb_KTGX8\n",
      "-> collecting comments for video: qlxsHz1YfMA\n",
      "-> collecting comments for video: u8kkbg04PU4\n",
      "-> collecting comments for video: BCjqqqfCggw\n",
      "-> collecting comments for video: 0BPWtYPkDS4\n",
      "-> collecting comments for video: 0tSACr4-fW8\n",
      "-> collecting comments for video: z43onGU9ul4\n",
      "-> collecting comments for video: yOFXVdIwH6s\n",
      "       video_id                                         comment_id  \\\n",
      "0   d1eEWihvwpQ                         UgxmZNK1ZIj5jMBUemZ4AaABAg   \n",
      "1   d1eEWihvwpQ                         UgxbTG_0cWGvMAee0sx4AaABAg   \n",
      "2   d1eEWihvwpQ  UgxbTG_0cWGvMAee0sx4AaABAg.9h1A5EF38D69wxn0x1JQlS   \n",
      "3   d1eEWihvwpQ                         UgzBGHRwVHq4rkAa4AZ4AaABAg   \n",
      "4   d1eEWihvwpQ                         Ugy03Fu2_XAUTUUsHtB4AaABAg   \n",
      "..          ...                                                ...   \n",
      "9   yOFXVdIwH6s                         Ugw0Bj8qugh4Cv_mfPl4AaABAg   \n",
      "10  yOFXVdIwH6s  Ugw0Bj8qugh4Cv_mfPl4AaABAg.97FvEqNillS97FvVt6fLkC   \n",
      "11  yOFXVdIwH6s                         UgwVM-D2UyxbO7cPHSh4AaABAg   \n",
      "12  yOFXVdIwH6s  UgwVM-D2UyxbO7cPHSh4AaABAg.97FsuFedlNp97FvVFPVYkb   \n",
      "13  yOFXVdIwH6s  UgwVM-D2UyxbO7cPHSh4AaABAg.97FsuFedlNp97FwsRkx31V   \n",
      "\n",
      "                                         comment_text  \\\n",
      "0              Permanently messed up my sense of time   \n",
      "1   I had COVID-19 in August and it was Super Unpl...   \n",
      "2   @@showline8303much better I also had Influenza...   \n",
      "3   This happened on March 26, 2020.  That is when...   \n",
      "4                                 It's been a year :(   \n",
      "..                                                ...   \n",
      "9   Now the libs are concerned!! What happen to th...   \n",
      "10     The virus arrived here via travelers, crybaby.   \n",
      "11  In the past 24 hours, 1,900 Americans died of ...   \n",
      "12                Ro G that’s in addition to the flu.   \n",
      "13  @@lilesmw another racist dump supporter hahah....   \n",
      "\n",
      "                    comment_author          comment_date comment_like_count  \\\n",
      "0             @radioactivebeverage  2024-03-15T01:47:38Z                  2   \n",
      "1   @rosieasmrwhispererzephier7021  2022-10-11T02:46:38Z                  0   \n",
      "2   @rosieasmrwhispererzephier7021  2023-11-11T02:21:41Z                  0   \n",
      "3                     @danhobson24  2022-06-08T21:53:44Z                  0   \n",
      "4                   @monsehere8090  2021-03-14T15:29:55Z                  2   \n",
      "..                             ...                   ...                ...   \n",
      "9              @ronaldhagadorn5512  2020-04-10T04:55:09Z                  0   \n",
      "10           @howdoesthatmakesense  2020-04-10T04:57:29Z                  0   \n",
      "11                          @rgwak  2020-04-10T04:34:44Z                  8   \n",
      "12                        @lilesmw  2020-04-10T04:57:24Z                  1   \n",
      "13                @diazalikhan2874  2020-04-10T05:09:26Z                  3   \n",
      "\n",
      "             parent_comment_id  \n",
      "0                         None  \n",
      "1                         None  \n",
      "2   UgxbTG_0cWGvMAee0sx4AaABAg  \n",
      "3                         None  \n",
      "4                         None  \n",
      "..                         ...  \n",
      "9                         None  \n",
      "10  Ugw0Bj8qugh4Cv_mfPl4AaABAg  \n",
      "11                        None  \n",
      "12  UgwVM-D2UyxbO7cPHSh4AaABAg  \n",
      "13  UgwVM-D2UyxbO7cPHSh4AaABAg  \n",
      "\n",
      "[4467 rows x 7 columns]\n"
     ]
    }
   ],
   "source": [
    "def get_videos_comments():\n",
    "    videos = pd.read_csv(VIDEOS_FILE)\n",
    "    video_ids = videos['video_id'].tolist()\n",
    "    df_list =[]    \n",
    "    # Loop through all the video IDs and retrieve the comments\n",
    "    for video_id in video_ids:\n",
    "        print(f\"-> collecting comments for video: {video_id}\")\n",
    "        comments_list = []\n",
    "        try:\n",
    "            response = youtube.commentThreads().list(\n",
    "                part='snippet',\n",
    "                videoId=video_id,\n",
    "                textFormat='plainText'\n",
    "            ).execute()\n",
    "\n",
    "            # Loop through all the comments and extract the relevant information\n",
    "            for item in response['items']:\n",
    "                comment_id = item['snippet']['topLevelComment']['id']\n",
    "                comment_text = item['snippet']['topLevelComment']['snippet']['textDisplay']\n",
    "                comment_author = item['snippet']['topLevelComment']['snippet']['authorDisplayName']\n",
    "                comment_date = item['snippet']['topLevelComment']['snippet']['publishedAt']\n",
    "                like_count = item['snippet']['topLevelComment']['snippet']['likeCount']\n",
    "                reply_count = item['snippet']['totalReplyCount']\n",
    "                comments_list.append([video_id, comment_id, comment_text, comment_author, comment_date, like_count, None])\n",
    "                \n",
    "                if reply_count > 0:\n",
    "                    # Retrieve the replies to the top-level comment\n",
    "                    reply_response = youtube.comments().list(\n",
    "                        part='snippet',\n",
    "                        parentId=comment_id,\n",
    "                        textFormat='plainText'\n",
    "                    ).execute()\n",
    "                    \n",
    "                    # Loop through all the replies and extract the relevant information\n",
    "                    for reply_item in reply_response['items']:\n",
    "                        reply_id = reply_item['id']\n",
    "                        reply_text = reply_item['snippet']['textDisplay']\n",
    "                        reply_author = reply_item['snippet']['authorDisplayName']\n",
    "                        reply_date = reply_item['snippet']['publishedAt']\n",
    "                        reply_like_count = reply_item['snippet']['likeCount']\n",
    "                        comments_list.append([video_id, reply_id, reply_text, reply_author, reply_date, reply_like_count, comment_id])\n",
    "\n",
    "        except HttpError as error:\n",
    "            if error.resp.status == 403:\n",
    "                print(f'Comments are disabled for video ID {video_id}. Skipping...')\n",
    "            else:\n",
    "                raise error\n",
    "        \n",
    "        df = pd.DataFrame(comments_list, columns=['video_id', 'comment_id', 'comment_text', 'comment_author', 'comment_date', 'comment_like_count', 'parent_comment_id'])\n",
    "        df_list.append(df)\n",
    "    df_concatenated = pd.concat(df_list, axis=0)\n",
    "    df_concatenated.to_csv(COMMENTS_FILE, mode='w', index=False)\n",
    "    return df_concatenated\n",
    "\n",
    "print(get_videos_comments())"
   ]
  },
  {
   "cell_type": "markdown",
   "id": "53640a66-446e-470c-9b7d-928367dcfee3",
   "metadata": {},
   "source": [
    "##### D.1. Write Python code that cleans the data for analyzing the videos and comments."
   ]
  },
  {
   "cell_type": "code",
   "execution_count": 85,
   "id": "4282dba5-9feb-4860-be39-efac070d9827",
   "metadata": {},
   "outputs": [
    {
     "name": "stdout",
     "output_type": "stream",
     "text": [
      "non-english comment skipped ... No features in text.\n",
      "None\n"
     ]
    },
    {
     "name": "stderr",
     "output_type": "stream",
     "text": [
      "[nltk_data] Downloading package stopwords to /Users/krish/nltk_data...\n",
      "[nltk_data]   Package stopwords is already up-to-date!\n"
     ]
    }
   ],
   "source": [
    "# a basic data cleaning has been performed on the collected data by the clean_data()function in collect.ipynb\n",
    "# additionl data cleaning can be added here - if needed\n",
    "nltk.download('stopwords')\n",
    "def clean_data(VIDEOS_FILE, COMMENTS_FILE, stopwords):\n",
    "    # Load videos data\n",
    "    videos = pd.read_csv(VIDEOS_FILE)\n",
    "\n",
    "    # Clean videos data\n",
    "    videos['video_title'] = videos['video_title'].apply(lambda x: re.sub(r'[^\\w\\s]', '', x) if isinstance(x, str) else x) # remove punctuation\n",
    "    videos['video_title'] = videos['video_title'].apply(lambda x: re.sub(r'\\d+', '', x) if isinstance(x, str) else x) # remove digits\n",
    "    videos['video_title'] = videos['video_title'].apply(lambda x: x.lower() if isinstance(x, str) else x) # convert to lowercase\n",
    "\n",
    "    # Save cleaned videos data to new CSV file, replacing the existing file\n",
    "    videos.to_csv(VIDEOS_FILE, index=False)\n",
    "\n",
    "    # Load comments data\n",
    "    comments = pd.read_csv(COMMENTS_FILE)\n",
    "\n",
    "    # Clean comments data\n",
    "    comments['comment_text'] = comments['comment_text'].apply(lambda x: re.sub(r'[^\\w\\s]', '', x) if isinstance(x, str) else x)  # remove punctuation\n",
    "    comments['comment_text'] = comments['comment_text'].apply(lambda x: re.sub(r'\\d+', '', x) if isinstance(x, str) else x)  # remove digits\n",
    "    comments['comment_text'] = comments['comment_text'].apply(lambda x: x.lower() if isinstance(x, str) else x)  # convert to lowercase\n",
    "\n",
    "    # Remove duplicates\n",
    "    comments = comments.drop_duplicates()\n",
    "\n",
    "    # Remove rows with missing comment_text\n",
    "    comments = comments.dropna(subset=['comment_text'])\n",
    "\n",
    "    # Filter out comments that are not in English\n",
    "    try:\n",
    "        comments = comments[comments['comment_text'].apply(lambda x: langdetect.detect(x) == 'en')]\n",
    "    except langdetect.LangDetectException as e:\n",
    "        print(f\"non-english comment skipped ... {e}\")\n",
    "    # Stopword removal\n",
    "    stop_words = set(stopwords.words('english'))\n",
    "    comments['comment_text'] = comments['comment_text'].apply(lambda x: ' '.join([word for word in x.split() if word not in stop_words]))\n",
    "\n",
    "    # Save cleaned comments data to new CSV file, replacing the existing file\n",
    "    comments.to_csv(COMMENTS_FILE, index=False)\n",
    "\n",
    "print(clean_data(VIDEOS_FILE, COMMENTS_FILE, stopwords))  "
   ]
  },
  {
   "cell_type": "markdown",
   "id": "46b1bded-bb84-42ab-b9af-b0b73bfaed62",
   "metadata": {},
   "source": [
    "##### D.2. Write Python code that prepares the data for analyzing the videos and comments."
   ]
  },
  {
   "cell_type": "code",
   "execution_count": 86,
   "id": "d7a461d1",
   "metadata": {
    "tags": []
   },
   "outputs": [],
   "source": [
    "# A sample code for data preparation has been given below. Feel free to edit when needed\n",
    "\n",
    "# Load the videos and comments dataframes from their respective CSV files\n",
    "videos_df = pd.read_csv('videos.csv')\n",
    "comments_df = pd.read_csv('comments.csv')\n",
    "\n",
    "# Convert the published_at column to a datetime object for videos_df\n",
    "videos_df['published_at'] = pd.to_datetime(videos_df['published_at'], format='%Y-%m-%dT%H:%M:%SZ')\n",
    "\n",
    "# Create a new column that contains the published_at weekly\n",
    "videos_df['published_at_week'] = videos_df['published_at'].dt.strftime('%Y-%m-%W')\n",
    "\n",
    "# Create a new column that contains the published_at monthly\n",
    "videos_df['published_at_month'] = videos_df['published_at'].dt.strftime('%Y-%m')\n",
    "\n",
    "# Create a new column that contains the published_at monthly\n",
    "videos_df['published_at_year'] = videos_df['published_at'].dt.strftime('%Y')\n",
    "\n",
    "# Convert the published_at column to a datetime object for comments_df\n",
    "comments_df['comment_date'] = pd.to_datetime(comments_df['comment_date'], format='%Y-%m-%dT%H:%M:%SZ')\n",
    "\n",
    "# Create a new column that contains the published_at weekly\n",
    "comments_df['comment_date_week'] = comments_df['comment_date'].dt.strftime('%Y-%m-%W')\n",
    "\n",
    "# Create a new column that contains the published_at monthly\n",
    "comments_df['comment_date_month'] = comments_df['comment_date'].dt.strftime('%Y-%m')\n",
    "\n",
    "# Create a new column that contains the published_at monthly\n",
    "comments_df['comment_date_year'] = comments_df['comment_date'].dt.strftime('%Y')\n",
    "\n",
    "# Convert the duration column to seconds for videos_df\n",
    "videos_df['duration'] = videos_df['duration'].apply(lambda x: re.findall(r'PT(\\d+)M(\\d+)S', x))\n",
    "videos_df['duration'] = videos_df['duration'].apply(lambda x: int(x[0][0]) * 60 + int(x[0][1]) if len(x) > 0 else 0)\n",
    "\n",
    "# Prepared DataFrame objects; can be used for data analysis\n",
    "videos = videos_df.copy(deep=True)\n",
    "comments = comments_df.copy(deep=True)\n",
    "videos_comments_inner = pd.merge(videos,comments, on='video_id', how = 'inner') # merged videos and comments\n",
    "videos_comments_left = pd.merge(videos,comments, on='video_id', how = 'left') # left-merged videos and comments"
   ]
  },
  {
   "cell_type": "markdown",
   "id": "c138ac16-493b-41f2-8493-a4a598b2e5f4",
   "metadata": {
    "tags": []
   },
   "source": [
    "### E. Analyze the Videos and Comments\n",
    "\n",
    "Please note you must **discuss your observations** for each question, in addition to the python code. "
   ]
  },
  {
   "cell_type": "markdown",
   "id": "b8830393-f4f0-4f1b-bdc6-2c9fdd9a740d",
   "metadata": {
    "tags": []
   },
   "source": [
    "#### E.1. Analyze the Videos and Comments - Part 1\n",
    "* Choose **(only) 2** of the following questions (E.1.1 to E.1.7) and write Python code to answer them. "
   ]
  },
  {
   "cell_type": "markdown",
   "id": "9c4364cc-aaf3-42c8-8421-643ea66c32ef",
   "metadata": {},
   "source": [
    "##### E.1.1 Compare the distributions of the number of views, likes, and comments for the videos. Use visualization and discuss your observations. Your visualization must include three subplots, one for each variable (number of views, number of likes, number of comments), and each subplot must display a histogram of the respective variable overlayed by a kernel density function. Additionally, your visualization must have proper labels for the x and y axes, as well as a title for each subplot."
   ]
  },
  {
   "cell_type": "code",
   "execution_count": 87,
   "id": "dc13cf01-36ca-49ba-8b05-2ff9a41aafa5",
   "metadata": {
    "tags": []
   },
   "outputs": [
    {
     "data": {
      "image/png": "[encoded data removed]",
      "text/plain": [
       "<Figure size 1200x1800 with 3 Axes>"
      ]
     },
     "metadata": {},
     "output_type": "display_data"
    }
   ],
   "source": [
    "# Write your code here:\n",
    "\n",
    "# Define the column names for which we want to create the histograms\n",
    "\n",
    "# Create a figure with three subplots using a 1x3 grid\n",
    "\n",
    "# Loop over the columns and plot a histogram on each subplot\n",
    "\n",
    "# Customize and display the plot\n",
    "import pandas as pd\n",
    "import matplotlib.pyplot as plt\n",
    "import seaborn as sns\n",
    "\n",
    "# Load the videos data\n",
    "videos = pd.read_csv('videos.csv')  # Make sure this file is the cleaned version from the clean_data function\n",
    "\n",
    "# Create subplots\n",
    "fig, axes = plt.subplots(3, 1, figsize=(12, 18))\n",
    "\n",
    "# Plot the distribution of views\n",
    "sns.histplot(videos['view_count'], kde=True, ax=axes[0])\n",
    "axes[0].set_title('Distribution of Number of Views')\n",
    "axes[0].set_xlabel('Number of Views')\n",
    "axes[0].set_ylabel('Frequency')\n",
    "\n",
    "# Plot the distribution of likes\n",
    "sns.histplot(videos['like_count'], kde=True, ax=axes[1])\n",
    "axes[1].set_title('Distribution of Number of Likes')\n",
    "axes[1].set_xlabel('Number of Likes')\n",
    "axes[1].set_ylabel('Frequency')\n",
    "\n",
    "# Plot the distribution of comments\n",
    "sns.histplot(videos['comment_count'], kde=True, ax=axes[2])\n",
    "axes[2].set_title('Distribution of Number of Comments')\n",
    "axes[2].set_xlabel('Number of Comments')\n",
    "axes[2].set_ylabel('Frequency')\n",
    "\n",
    "# Adjust layout\n",
    "plt.tight_layout()\n",
    "\n",
    "# Show the plots\n",
    "plt.show()\n"
   ]
  },
  {
   "cell_type": "raw",
   "id": "51e618e6-1e82-4d9e-a35b-b495f5d3b812",
   "metadata": {},
   "source": [
    "Discuss your observations here:\n",
    "\n",
    "Observation 1: \n",
    "\n",
    "Observation 2: \n",
    "\n",
    "..."
   ]
  },
  {
   "cell_type": "markdown",
   "id": "632ed5eb-fce3-4183-9a16-6101ae3ffdf1",
   "metadata": {},
   "source": [
    "##### E.1.2. What is the total number of views, likes, and comments for the videos published by different news publishers (channels)? Use visualization to compare these totals across the channels; discuss your observations. Your visualization should include three subplots, one for each variable (total number of views, total number of likes, and total number of comments). Additionally, your visualization should have appropriate labels for the x and y axes, as well as a title for each subplot."
   ]
  },
  {
   "cell_type": "code",
   "execution_count": 88,
   "id": "21b75f1e-f5f1-4a14-b8ea-8f3116df24ba",
   "metadata": {
    "tags": []
   },
   "outputs": [
    {
     "data": {
      "image/png": "[encoded data removed]",
      "text/plain": [
       "<Figure size 1600x2400 with 3 Axes>"
      ]
     },
     "metadata": {},
     "output_type": "display_data"
    }
   ],
   "source": [
    "# Write your code here:\n",
    "\n",
    "# Calculate total views, likes, and comments by publisher\n",
    "\n",
    "# Create subplots\n",
    "\n",
    "# Plot total number of views, likes, and comments by publisher\n",
    "\n",
    "# Customize and display the plot\n",
    "import pandas as pd\n",
    "import matplotlib.pyplot as plt\n",
    "import seaborn as sns\n",
    "\n",
    "# Load the videos data\n",
    "videos = pd.read_csv('videos.csv')  # Make sure this file is the cleaned version from the clean_data function\n",
    "\n",
    "# Aggregate data by channel\n",
    "channel_views = videos.groupby('channel_title')['view_count'].sum().reset_index()\n",
    "channel_likes = videos.groupby('channel_title')['like_count'].sum().reset_index()\n",
    "channel_comments = videos.groupby('channel_title')['comment_count'].sum().reset_index()\n",
    "\n",
    "# Set the figure size and create subplots\n",
    "fig, axes = plt.subplots(3, 1, figsize=(16, 24))\n",
    "\n",
    "# Plot the total number of views by channel\n",
    "sns.barplot(data=channel_views, y='view_count', x='channel_title', ax=axes[0], palette='viridis')\n",
    "axes[0].set_title('Total Number of Views by Channel')\n",
    "axes[0].set_ylabel('Total Number of Views')\n",
    "axes[0].set_xlabel('Channel')\n",
    "axes[0].tick_params(axis='x', rotation=90)\n",
    "\n",
    "# Plot the total number of likes by channel\n",
    "sns.barplot(data=channel_likes, y='like_count', x='channel_title', ax=axes[1], palette='viridis')\n",
    "axes[1].set_title('Total Number of Likes by Channel')\n",
    "axes[1].set_ylabel('Total Number of Likes')\n",
    "axes[1].set_xlabel('Channel')\n",
    "axes[1].tick_params(axis='x', rotation=90)\n",
    "\n",
    "# Plot the total number of comments by channel\n",
    "sns.barplot(data=channel_comments, y='comment_count', x='channel_title', ax=axes[2], palette='viridis')\n",
    "axes[2].set_title('Total Number of Comments by Channel')\n",
    "axes[2].set_ylabel('Total Number of Comments')\n",
    "axes[2].set_xlabel('Channel')\n",
    "axes[2].tick_params(axis='x', rotation=90)\n",
    "\n",
    "# Adjust layout\n",
    "plt.tight_layout()\n",
    "\n",
    "# Show the plots\n",
    "plt.show()\n"
   ]
  },
  {
   "cell_type": "raw",
   "id": "65fa9e6c-2f65-400f-b1ca-dbe6ef814926",
   "metadata": {},
   "source": [
    "Briefly discuss your observations here:\n",
    "\n",
    "Observation 1: \n",
    "\n",
    "Observation 2: \n",
    "\n",
    "..."
   ]
  },
  {
   "cell_type": "markdown",
   "id": "b5ccacff-ad00-4e88-883d-b887719405fc",
   "metadata": {},
   "source": [
    "##### E.1.3. How has the number of comments changed over time? Use visualization to answer this question and annotate at least three major events related to Covid-19 (e.g., WHO declares pandemic) on your plot. Additionally, analyze the plot and try to identify any relationship between these events and the changes in the number of comments; discuss your observations."
   ]
  },
  {
   "cell_type": "code",
   "execution_count": 89,
   "id": "2527da09-a38b-4fb2-87f2-ca9fda274070",
   "metadata": {
    "tags": []
   },
   "outputs": [],
   "source": [
    "# Write your code here:\n",
    "\n",
    "# Create a figure and an axes object \n",
    "\n",
    "# Group the comments by week \n",
    "\n",
    "# Plot comments_by_week \n",
    "\n",
    "# Annonate the major events on the plot ..\n",
    "\n",
    "# Customize and display the plot"
   ]
  },
  {
   "cell_type": "raw",
   "id": "a0a75ba9-cbda-4a02-acc5-0012c187d82a",
   "metadata": {},
   "source": [
    "Briefly discuss your observations here:\n",
    "\n",
    "Observation 1: \n",
    "\n",
    "Observation 2: \n",
    "\n",
    "..."
   ]
  },
  {
   "cell_type": "markdown",
   "id": "0e9963eb-5e4d-4db4-992c-0e82a8324a0c",
   "metadata": {
    "tags": []
   },
   "source": [
    "##### E.1.4. How are the parent comments' likes distributed across different news publishers (channels)? Visualize the distributions using a violin plot and discuss your observations.\n",
    "\n",
    "* A violin plot is a type of data visualization that combines the features of a box plot and a kernel density plot. It is used to show the distribution of a dataset, and provides information about the underlying data. The thickness of a violin plot represents the density of data points in that area of the plot. Thicker areas indicate a higher density of data points, while thinner areas indicate a lower density of data points. "
   ]
  },
  {
   "cell_type": "code",
   "execution_count": 90,
   "id": "b3bdda83-8418-4232-ad78-79d00d9ddc0c",
   "metadata": {
    "tags": []
   },
   "outputs": [],
   "source": [
    "# Write your code here:\n",
    "\n",
    "# Assign the `videos_comments` DataFrame to a new variable `df`\n",
    "\n",
    "# Create a new column in the `df` DataFrame to indicate whether a comment is a parent or not\n",
    "\n",
    "# Filter out non-parent comments using a boolean mask created from the `is_parent` column\n",
    "\n",
    "# Create a violin plot of the data with a limited y-axis range\n",
    "\n",
    "# Customize and display the plot"
   ]
  },
  {
   "cell_type": "raw",
   "id": "68270418-2e63-451d-81e8-74fcb80ae840",
   "metadata": {},
   "source": [
    "Briefly discuss your observations here:\n",
    "\n",
    "Observation 1: \n",
    "\n",
    "Observation 2: \n",
    "\n",
    "..."
   ]
  },
  {
   "cell_type": "markdown",
   "id": "f3c8274c-35c1-4fad-b45d-49fd8e4a74b1",
   "metadata": {},
   "source": [
    "##### E.1.5. How are the comment replies distributed over time for different news publishers (channels)? Visualize the distributions using probability density functions."
   ]
  },
  {
   "cell_type": "code",
   "execution_count": 91,
   "id": "ac3a3af2-e2ea-485b-8c1b-c330f76a28fe",
   "metadata": {
    "tags": []
   },
   "outputs": [],
   "source": [
    "# Write your code here:\n",
    "\n",
    "# Group the comments by channel title\n",
    "\n",
    "# Create a figure and axis object using the `subplots()` method \n",
    "\n",
    "# Loop through the channels and plot the probability density function for each\n",
    "\n",
    "# Customize and display the plot"
   ]
  },
  {
   "cell_type": "raw",
   "id": "53cd53a4-9b5e-40ba-ad3b-619636cf7599",
   "metadata": {},
   "source": [
    "Briefly discuss your observations here:\n",
    "\n",
    "Observation 1: \n",
    "\n",
    "Observation 2: \n",
    "\n",
    "..."
   ]
  },
  {
   "cell_type": "markdown",
   "id": "a9c85e31-0b6c-452c-bdc2-d95a1a47ac8e",
   "metadata": {},
   "source": [
    "##### E.1.6. What are the top 5 videos with the highest ratio of likes to views? Display the URLs of these videos as well as their corresponding like counts, view counts, and like to view ratios. Discuss your observations. "
   ]
  },
  {
   "cell_type": "code",
   "execution_count": 92,
   "id": "775ff698-1fc1-4678-b2a0-7d860262ec08",
   "metadata": {
    "tags": []
   },
   "outputs": [
    {
     "name": "stdout",
     "output_type": "stream",
     "text": [
      "                                             url  like_count  view_count  \\\n",
      "47   https://www.youtube.com/watch?v=gsp691RCGRU        8771      262539   \n",
      "36   https://www.youtube.com/watch?v=bf4WRdPnf4I         285        9163   \n",
      "155  https://www.youtube.com/watch?v=QwGfY5CJJZ0         122        4128   \n",
      "16   https://www.youtube.com/watch?v=3ebpS88BAwA         865       32892   \n",
      "40   https://www.youtube.com/watch?v=N9TdWNrTLF8        1485       60843   \n",
      "\n",
      "     like_to_view_ratio  \n",
      "47             0.033408  \n",
      "36             0.031103  \n",
      "155            0.029554  \n",
      "16             0.026298  \n",
      "40             0.024407  \n",
      "Video URL: https://www.youtube.com/watch?v=gsp691RCGRU\n",
      "Likes: 8771\n",
      "Views: 262539\n",
      "Like to View Ratio: 0.0334\n",
      "\n",
      "Video URL: https://www.youtube.com/watch?v=bf4WRdPnf4I\n",
      "Likes: 285\n",
      "Views: 9163\n",
      "Like to View Ratio: 0.0311\n",
      "\n",
      "Video URL: https://www.youtube.com/watch?v=QwGfY5CJJZ0\n",
      "Likes: 122\n",
      "Views: 4128\n",
      "Like to View Ratio: 0.0296\n",
      "\n",
      "Video URL: https://www.youtube.com/watch?v=3ebpS88BAwA\n",
      "Likes: 865\n",
      "Views: 32892\n",
      "Like to View Ratio: 0.0263\n",
      "\n",
      "Video URL: https://www.youtube.com/watch?v=N9TdWNrTLF8\n",
      "Likes: 1485\n",
      "Views: 60843\n",
      "Like to View Ratio: 0.0244\n",
      "\n"
     ]
    }
   ],
   "source": [
    "# Write your code here:\n",
    "\n",
    "# Calculate the ratio of likes to views for each video\n",
    "\n",
    "# Sort the videos by like to view ratio in descending order \n",
    "\n",
    "# Select the top 5 videos with the highest like ratio\n",
    "\n",
    "# Display the URLs, like and view counts, and like to view ratios for the top 5 videos\n",
    "import pandas as pd\n",
    "\n",
    "# Load the videos data\n",
    "videos = pd.read_csv('videos.csv')  # Make sure this file is the cleaned version from the clean_data function\n",
    "\n",
    "# Calculate the like-to-view ratio\n",
    "videos['like_to_view_ratio'] = videos['like_count'] / videos['view_count']\n",
    "\n",
    "# Sort the videos by like-to-view ratio in descending order\n",
    "top_videos = videos.sort_values(by='like_to_view_ratio', ascending=False).head(5)\n",
    "\n",
    "# Select relevant columns\n",
    "top_videos = top_videos[['url', 'like_count', 'view_count', 'like_to_view_ratio']]\n",
    "\n",
    "# Display the top 5 videos\n",
    "print(top_videos)\n",
    "\n",
    "# Observations\n",
    "for index, row in top_videos.iterrows():\n",
    "    print(f\"Video URL: {row['url']}\")\n",
    "    print(f\"Likes: {row['like_count']}\")\n",
    "    print(f\"Views: {row['view_count']}\")\n",
    "    print(f\"Like to View Ratio: {row['like_to_view_ratio']:.4f}\")\n",
    "    print()\n"
   ]
  },
  {
   "cell_type": "raw",
   "id": "0586311b-2ec9-4d0a-a8cc-fef561f44ac8",
   "metadata": {
    "vscode": {
     "languageId": "raw"
    }
   },
   "source": [
    "Briefly discuss your observations here:\n",
    "\n",
    "Observation 1: \n",
    "\n",
    "Observation 2: \n",
    "\n",
    "..."
   ]
  },
  {
   "cell_type": "markdown",
   "id": "4164d089-38cc-4e93-a329-d7ebb6873b9d",
   "metadata": {},
   "source": [
    "##### E.1.7. Is there any relationship between the average length of the comments on a video and its like count? Visualize the relationship and discuss your observations. Exclude from your analysis the videos with no comments."
   ]
  },
  {
   "cell_type": "code",
   "execution_count": 93,
   "id": "2ba20c52-3265-4a2e-ac26-209e47038cb8",
   "metadata": {
    "tags": []
   },
   "outputs": [],
   "source": [
    "# Write your code here:\n",
    "\n",
    "# Calculate the average comment length and like count for each video \n",
    "\n",
    "# Plot the relationship between average comment length and like count\n",
    "\n",
    "# Customize and display the plot"
   ]
  },
  {
   "cell_type": "raw",
   "id": "a8fd5af1-ecde-4c6e-83a2-f2ff1329a305",
   "metadata": {},
   "source": [
    "Briefly discuss your observations here:\n",
    "\n",
    "Observation 1: \n",
    "\n",
    "Observation 2:\n",
    "\n",
    "..."
   ]
  },
  {
   "cell_type": "markdown",
   "id": "a6c4d9bb-3efb-4ac8-9ea0-0a9a2a908c34",
   "metadata": {
    "tags": []
   },
   "source": [
    "#### E.2. Analyze the Videos and Comments - Part 2\n",
    "* Choose **(only) 1** of the following questions (E.2.1 to E.2.7) and write Python code to answer them. "
   ]
  },
  {
   "cell_type": "markdown",
   "id": "f0d374eb-e02d-43c3-b955-80c4b8b69c87",
   "metadata": {},
   "source": [
    "##### E.2.1. What are the top 10 comments with the most replies? For each comment, display the Channel Title, Comment text, and the total number of replies that comment has received. Discuss your observations."
   ]
  },
  {
   "cell_type": "code",
   "execution_count": 94,
   "id": "ce9195c6-6ab7-4e89-a4e8-a37b97edc7bc",
   "metadata": {
    "tags": []
   },
   "outputs": [],
   "source": [
    "# Write your code here:\n",
    "\n",
    "# Get the total number of replies to each comment\n",
    "\n",
    "# Select comments without a parent comment_id (i.e., root comments)\n",
    "\n",
    "# Get the top 10 root comments with the most replies\n",
    "\n",
    "# Display the 'comment_text', 'channel_title', and 'reply_count' of the top 10 root comments\n"
   ]
  },
  {
   "cell_type": "raw",
   "id": "7ee86ca8-607b-49bf-9900-12a350fd40d7",
   "metadata": {},
   "source": [
    "Briefly discuss your observations here:\n",
    "\n",
    "Observation 1: \n",
    "\n",
    "Observation 2:\n",
    "\n",
    "..."
   ]
  },
  {
   "cell_type": "markdown",
   "id": "9a2cc045-2574-45ee-b26c-de68ff848ef4",
   "metadata": {},
   "source": [
    "##### E.2.2. How does the average length of the comments (in characters) on a video vary with its duration? Analyze this for different news publishers (channels) using visualizations and discuss your observations."
   ]
  },
  {
   "cell_type": "code",
   "execution_count": 95,
   "id": "022220c4-b191-41d7-a961-21f96e4438ac",
   "metadata": {
    "tags": []
   },
   "outputs": [],
   "source": [
    "# Write your code here:\n",
    "\n",
    "# Create a new DataFrame containing only the comments data\n",
    "\n",
    "# Add a new column to the DataFrame to store the length of each comment\n",
    "\n",
    "# Group the comments DataFrame by video_id and calculate the mean comment length for each video\n",
    "\n",
    "# Merge the videos DataFrame with grouped comments DataFrame \n",
    "\n",
    "# Create subplots for each channel\n",
    "\n",
    "# Customize and display the subplots"
   ]
  },
  {
   "cell_type": "raw",
   "id": "7d1c1b10-bf89-4fcf-9715-275be0c529a3",
   "metadata": {},
   "source": [
    "Briefly discuss your observations here:\n",
    "\n",
    "Observation 1: \n",
    "\n",
    "Observation 2:\n",
    "\n",
    "..."
   ]
  },
  {
   "cell_type": "markdown",
   "id": "6668d874-b135-4d7c-8b47-fcd32e75f6ff",
   "metadata": {},
   "source": [
    "##### E.2.3. How has the total number of comments per news publisher (channel) changed over months? Create a visualization to investigate this and discuss your observations. Make sure the outliers have been removed. "
   ]
  },
  {
   "cell_type": "code",
   "execution_count": 96,
   "id": "c5730935-f909-485b-8bcd-cb6e8e31812b",
   "metadata": {
    "tags": []
   },
   "outputs": [],
   "source": [
    "# Write your code here:\n",
    "\n",
    "# Convert the published_at column to a datetime object and extract year and month\n",
    "\n",
    "# Calculate the total number of comments per channel_title and year_month\n",
    "\n",
    "# Remove outliers\n",
    "\n",
    "# Create a pivot table to group the data by year_month and channel_title\n",
    "\n",
    "# Create, customize, and display the plot"
   ]
  },
  {
   "cell_type": "raw",
   "id": "815cbf55-fad1-4f27-9e38-92eb47913c7d",
   "metadata": {},
   "source": [
    "Briefly discuss your observations here:\n",
    "\n",
    "Observation 1: \n",
    "\n",
    "Observation 2:\n",
    "\n",
    "..."
   ]
  },
  {
   "cell_type": "markdown",
   "id": "5e32448b-1880-4a4e-b3f2-7379ea28384e",
   "metadata": {},
   "source": [
    "##### E.2.4. How does the distribution of number of comments and likes vary across different news publishers (channels)? Use visualization to answer this question; discuss your observations. Make sure the outliers have been removed from the visualization. "
   ]
  },
  {
   "cell_type": "code",
   "execution_count": 97,
   "id": "cdb502bc-c9ea-4aa1-b53d-3bd49ff468f2",
   "metadata": {
    "tags": []
   },
   "outputs": [],
   "source": [
    "# Write your code here:\n",
    "\n",
    "# Remove outliers\n",
    "\n",
    "# Create a figure with two subplots\n",
    "\n",
    "# Plot the distribution of comments and likes per news publisher\n",
    "\n",
    "# Customize and display the plots"
   ]
  },
  {
   "cell_type": "raw",
   "id": "c37ef273-1f2c-460a-859c-18fb154193ac",
   "metadata": {},
   "source": [
    "Briefly discuss your observations here:\n",
    "\n",
    "Observation 1: \n",
    "\n",
    "Observation 2:\n",
    "\n",
    "..."
   ]
  },
  {
   "cell_type": "markdown",
   "id": "4e7216eb-1c86-4329-98df-8a8c32121d74",
   "metadata": {},
   "source": [
    "##### E.2.5. Is there a relationship between the duration of a video and receiving a below-average number of comments? Use visualization to answer this question; discuss your observations."
   ]
  },
  {
   "cell_type": "code",
   "execution_count": 98,
   "id": "670ba21c-a22b-40cb-8f3d-7a45ebd3c532",
   "metadata": {
    "tags": []
   },
   "outputs": [],
   "source": [
    "# Write your code here:\n",
    "\n",
    "# Calculate average number of comments\n",
    "\n",
    "# Add a column to indicate if a video has fewer comments than average\n",
    "\n",
    "# Customize and display the plot"
   ]
  },
  {
   "cell_type": "raw",
   "id": "040b34ae-318d-4dbf-ab4f-14cff752eb7a",
   "metadata": {},
   "source": [
    "Briefly discuss your observations here:\n",
    "\n",
    "Observation 1: \n",
    "\n",
    "Observation 2:\n",
    "\n",
    "..."
   ]
  },
  {
   "cell_type": "markdown",
   "id": "276735e1-305d-4372-82b4-0b9fa4211b09",
   "metadata": {},
   "source": [
    "##### E.2.6. For a comment, Response Time (in seconds) is defined as the period between the time the comment is posted and the time the video is published. Use visualization to compare the distribution of the comment response times for different news publishers (channels). How does the median response time and interquartile range vary across the news publishers? discuss your observations. "
   ]
  },
  {
   "cell_type": "code",
   "execution_count": 99,
   "id": "4e50bd99-98b3-4037-8e35-473de2c21b0f",
   "metadata": {
    "tags": []
   },
   "outputs": [],
   "source": [
    "# Write your code here:\n",
    "\n",
    "# Calculate response time for each comment\n",
    "\n",
    "# Visualize the median, interquartile range, and outliers for each channel\n",
    "\n",
    "# Customize and display the plot"
   ]
  },
  {
   "cell_type": "raw",
   "id": "3c962848-5e03-46c3-8f3f-b96b1cbf3e59",
   "metadata": {},
   "source": [
    "Briefly discuss your observations here:\n",
    "\n",
    "Observation 1: \n",
    "\n",
    "Observation 2:\n",
    "\n",
    "..."
   ]
  },
  {
   "cell_type": "markdown",
   "id": "cd8cb03c-620e-4370-98ab-e3ea92d1707a",
   "metadata": {
    "tags": []
   },
   "source": [
    "##### E.2.7. Compare the average number of videos published per week across different news publishers (channels)? Use visualization and discuss your observations. "
   ]
  },
  {
   "cell_type": "code",
   "execution_count": 100,
   "id": "078eb518-f319-463a-a93b-16b3e900b828",
   "metadata": {
    "tags": []
   },
   "outputs": [],
   "source": [
    "# Write your code here:\n",
    "\n",
    "# Group by channel_title and resample by week, counting the number of videos\n",
    "\n",
    "# Calculate the average number of videos published per week for each channel\n",
    "\n",
    "# Customize and display the plot"
   ]
  },
  {
   "cell_type": "raw",
   "id": "43b0346c-66a1-4631-abbc-a8ec9c546341",
   "metadata": {},
   "source": [
    "Briefly discuss your observations here:\n",
    "\n",
    "Observation 1: \n",
    "\n",
    "Observation 2:\n",
    "\n",
    "..."
   ]
  },
  {
   "cell_type": "code",
   "execution_count": 101,
   "id": "35bbfd9b-4cd8-45c8-9a65-581a784eb284",
   "metadata": {},
   "outputs": [
    {
     "name": "stdout",
     "output_type": "stream",
     "text": [
      " videos dataframe: video_id               object\n",
      "channel_id             object\n",
      "video_title            object\n",
      "channel_title          object\n",
      "category_name          object\n",
      "live_upcoming_none     object\n",
      "view_count              int64\n",
      "like_count              int64\n",
      "dislike_count           int64\n",
      "comment_count           int64\n",
      "published_at           object\n",
      "tags                   object\n",
      "duration               object\n",
      "definition             object\n",
      "caption                  bool\n",
      "thumbnail              object\n",
      "url                    object\n",
      "like_to_view_ratio    float64\n",
      "dtype: object \n",
      "\n",
      " comments dataframe: video_id                      object\n",
      "comment_id                    object\n",
      "comment_text                  object\n",
      "comment_author                object\n",
      "comment_date          datetime64[ns]\n",
      "comment_like_count             int64\n",
      "parent_comment_id             object\n",
      "comment_date_week             object\n",
      "comment_date_month            object\n",
      "comment_date_year             object\n",
      "dtype: object \n",
      "\n",
      "videos_comments dataframe: video_id                      object\n",
      "channel_id                    object\n",
      "video_title                   object\n",
      "channel_title                 object\n",
      "category_name                 object\n",
      "live_upcoming_none            object\n",
      "view_count                     int64\n",
      "like_count                     int64\n",
      "dislike_count                  int64\n",
      "comment_count                  int64\n",
      "published_at                  object\n",
      "tags                          object\n",
      "duration                      object\n",
      "definition                    object\n",
      "caption                         bool\n",
      "thumbnail                     object\n",
      "url                           object\n",
      "like_to_view_ratio           float64\n",
      "comment_id                    object\n",
      "comment_text                  object\n",
      "comment_author                object\n",
      "comment_date          datetime64[ns]\n",
      "comment_like_count             int64\n",
      "parent_comment_id             object\n",
      "comment_date_week             object\n",
      "comment_date_month            object\n",
      "comment_date_year             object\n",
      "dtype: object \n",
      "\n"
     ]
    }
   ],
   "source": [
    "print(f\" videos dataframe: {videos.dtypes} \\n\")\n",
    "print(f\" comments dataframe: {comments.dtypes} \\n\")\n",
    "print(f\"videos_comments dataframe: {pd.merge(videos,comments, how='inner', on ='video_id').dtypes} \\n\")"
   ]
  },
  {
   "cell_type": "code",
   "execution_count": null,
   "id": "8142831e-50ea-4601-9580-270e2a1787f4",
   "metadata": {},
   "outputs": [],
   "source": []
  }
 ],
 "metadata": {
  "kernelspec": {
   "display_name": "Python 3 (ipykernel)",
   "language": "python",
   "name": "python3"
  },
  "language_info": {
   "codemirror_mode": {
    "name": "ipython",
    "version": 3
   },
   "file_extension": ".py",
   "mimetype": "text/x-python",
   "name": "python",
   "nbconvert_exporter": "python",
   "pygments_lexer": "ipython3",
   "version": "3.12.3"
  },
  "vscode": {
   "interpreter": {
    "hash": "2920b276a3ebce4ce72dc8ffba4d2570b82a96386913ad33f11b89ba088715fe"
   }
  }
 },
 "nbformat": 4,
 "nbformat_minor": 5
}
